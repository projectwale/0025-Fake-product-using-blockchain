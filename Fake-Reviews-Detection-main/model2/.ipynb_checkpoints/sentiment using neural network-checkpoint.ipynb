{
 "cells": [
  {
   "cell_type": "code",
   "execution_count": 1,
   "id": "occasional-directory",
   "metadata": {
    "scrolled": true
   },
   "outputs": [],
   "source": [
    "# !pip install tweepy\n",
    "# !pip install python-twitter\n",
    "# !pip install textblob"
   ]
  },
  {
   "cell_type": "code",
   "execution_count": 1,
   "id": "weighted-engineering",
   "metadata": {
    "scrolled": true
   },
   "outputs": [
    {
     "name": "stderr",
     "output_type": "stream",
     "text": [
      "C:\\Users\\sushant\\anaconda3\\envs\\project\\lib\\site-packages\\numpy\\_distributor_init.py:30: UserWarning: loaded more than 1 DLL from .libs:\n",
      "C:\\Users\\sushant\\anaconda3\\envs\\project\\lib\\site-packages\\numpy\\.libs\\libopenblas.PYQHXLVVQ7VESDPUVUADXEVJOBGHJPAY.gfortran-win_amd64.dll\n",
      "C:\\Users\\sushant\\anaconda3\\envs\\project\\lib\\site-packages\\numpy\\.libs\\libopenblas.wcdjnk7yvmpzq2me2zzhjjrj3jikndb7.gfortran-win_amd64.dll\n",
      "  warnings.warn(\"loaded more than 1 DLL from .libs:\"\n"
     ]
    }
   ],
   "source": [
    "import json\n",
    "import requests\n",
    "import os\n",
    "import numpy as np\n",
    "import matplotlib.pyplot as plt\n",
    "import seaborn as sns\n",
    "import csv\n",
    "from datetime import date\n",
    "from datetime import datetime\n",
    "import time\n",
    "import tensorflow as tf\n",
    "import pandas as pd\n",
    "import matplotlib.pyplot as plt\n",
    "import seaborn as sns\n",
    "from textblob import TextBlob\n",
    "import re\n",
    "from nltk.corpus import stopwords\n",
    "from nltk.stem.wordnet import WordNetLemmatizer\n",
    "from sklearn.feature_extraction.text import CountVectorizer, TfidfTransformer\n",
    "from sklearn.naive_bayes import MultinomialNB\n",
    "from sklearn.model_selection import train_test_split\n",
    "from sklearn.pipeline import Pipeline\n",
    "from sklearn.metrics import confusion_matrix, classification_report,accuracy_score\n",
    "from sklearn import model_selection, naive_bayes, svm\n",
    "from nltk.tokenize import word_tokenize\n",
    "from nltk import pos_tag\n",
    "from nltk.corpus import stopwords\n",
    "from nltk.stem import WordNetLemmatizer\n",
    "from sklearn.preprocessing import LabelEncoder\n",
    "from collections import defaultdict\n",
    "from nltk.corpus import wordnet as wn\n",
    "from sklearn.feature_extraction.text import TfidfVectorizer\n",
    "from sklearn import model_selection, naive_bayes, svm\n",
    "from sklearn.metrics import accuracy_score\n",
    "import pickle\n",
    "from nltk.stem import WordNetLemmatizer\n",
    "from sklearn.linear_model import LogisticRegression"
   ]
  },
  {
   "cell_type": "code",
   "execution_count": 2,
   "id": "f1a50451",
   "metadata": {},
   "outputs": [],
   "source": [
    "df1 = pd.read_csv('fake reviews dataset.csv')"
   ]
  },
  {
   "cell_type": "code",
   "execution_count": 3,
   "id": "boring-juice",
   "metadata": {
    "scrolled": true
   },
   "outputs": [
    {
     "data": {
      "text/html": [
       "<div>\n",
       "<style scoped>\n",
       "    .dataframe tbody tr th:only-of-type {\n",
       "        vertical-align: middle;\n",
       "    }\n",
       "\n",
       "    .dataframe tbody tr th {\n",
       "        vertical-align: top;\n",
       "    }\n",
       "\n",
       "    .dataframe thead th {\n",
       "        text-align: right;\n",
       "    }\n",
       "</style>\n",
       "<table border=\"1\" class=\"dataframe\">\n",
       "  <thead>\n",
       "    <tr style=\"text-align: right;\">\n",
       "      <th></th>\n",
       "      <th>category</th>\n",
       "      <th>rating</th>\n",
       "      <th>label</th>\n",
       "      <th>text_</th>\n",
       "    </tr>\n",
       "  </thead>\n",
       "  <tbody>\n",
       "    <tr>\n",
       "      <th>0</th>\n",
       "      <td>Home_and_Kitchen_5</td>\n",
       "      <td>5.0</td>\n",
       "      <td>CG</td>\n",
       "      <td>Love this!  Well made, sturdy, and very comfor...</td>\n",
       "    </tr>\n",
       "    <tr>\n",
       "      <th>1</th>\n",
       "      <td>Home_and_Kitchen_5</td>\n",
       "      <td>5.0</td>\n",
       "      <td>CG</td>\n",
       "      <td>love it, a great upgrade from the original.  I...</td>\n",
       "    </tr>\n",
       "    <tr>\n",
       "      <th>2</th>\n",
       "      <td>Home_and_Kitchen_5</td>\n",
       "      <td>5.0</td>\n",
       "      <td>CG</td>\n",
       "      <td>This pillow saved my back. I love the look and...</td>\n",
       "    </tr>\n",
       "    <tr>\n",
       "      <th>3</th>\n",
       "      <td>Home_and_Kitchen_5</td>\n",
       "      <td>1.0</td>\n",
       "      <td>CG</td>\n",
       "      <td>Missing information on how to use it, but it i...</td>\n",
       "    </tr>\n",
       "    <tr>\n",
       "      <th>4</th>\n",
       "      <td>Home_and_Kitchen_5</td>\n",
       "      <td>5.0</td>\n",
       "      <td>CG</td>\n",
       "      <td>Very nice set. Good quality. We have had the s...</td>\n",
       "    </tr>\n",
       "    <tr>\n",
       "      <th>...</th>\n",
       "      <td>...</td>\n",
       "      <td>...</td>\n",
       "      <td>...</td>\n",
       "      <td>...</td>\n",
       "    </tr>\n",
       "    <tr>\n",
       "      <th>40427</th>\n",
       "      <td>Clothing_Shoes_and_Jewelry_5</td>\n",
       "      <td>4.0</td>\n",
       "      <td>OR</td>\n",
       "      <td>I had read some reviews saying that this bra r...</td>\n",
       "    </tr>\n",
       "    <tr>\n",
       "      <th>40428</th>\n",
       "      <td>Clothing_Shoes_and_Jewelry_5</td>\n",
       "      <td>5.0</td>\n",
       "      <td>CG</td>\n",
       "      <td>I wasn't sure exactly what it would be. It is ...</td>\n",
       "    </tr>\n",
       "    <tr>\n",
       "      <th>40429</th>\n",
       "      <td>Clothing_Shoes_and_Jewelry_5</td>\n",
       "      <td>2.0</td>\n",
       "      <td>OR</td>\n",
       "      <td>You can wear the hood by itself, wear it with ...</td>\n",
       "    </tr>\n",
       "    <tr>\n",
       "      <th>40430</th>\n",
       "      <td>Clothing_Shoes_and_Jewelry_5</td>\n",
       "      <td>1.0</td>\n",
       "      <td>CG</td>\n",
       "      <td>I liked nothing about this dress. The only rea...</td>\n",
       "    </tr>\n",
       "    <tr>\n",
       "      <th>40431</th>\n",
       "      <td>Clothing_Shoes_and_Jewelry_5</td>\n",
       "      <td>5.0</td>\n",
       "      <td>OR</td>\n",
       "      <td>I work in the wedding industry and have to wor...</td>\n",
       "    </tr>\n",
       "  </tbody>\n",
       "</table>\n",
       "<p>40432 rows × 4 columns</p>\n",
       "</div>"
      ],
      "text/plain": [
       "                           category  rating label  \\\n",
       "0                Home_and_Kitchen_5     5.0    CG   \n",
       "1                Home_and_Kitchen_5     5.0    CG   \n",
       "2                Home_and_Kitchen_5     5.0    CG   \n",
       "3                Home_and_Kitchen_5     1.0    CG   \n",
       "4                Home_and_Kitchen_5     5.0    CG   \n",
       "...                             ...     ...   ...   \n",
       "40427  Clothing_Shoes_and_Jewelry_5     4.0    OR   \n",
       "40428  Clothing_Shoes_and_Jewelry_5     5.0    CG   \n",
       "40429  Clothing_Shoes_and_Jewelry_5     2.0    OR   \n",
       "40430  Clothing_Shoes_and_Jewelry_5     1.0    CG   \n",
       "40431  Clothing_Shoes_and_Jewelry_5     5.0    OR   \n",
       "\n",
       "                                                   text_  \n",
       "0      Love this!  Well made, sturdy, and very comfor...  \n",
       "1      love it, a great upgrade from the original.  I...  \n",
       "2      This pillow saved my back. I love the look and...  \n",
       "3      Missing information on how to use it, but it i...  \n",
       "4      Very nice set. Good quality. We have had the s...  \n",
       "...                                                  ...  \n",
       "40427  I had read some reviews saying that this bra r...  \n",
       "40428  I wasn't sure exactly what it would be. It is ...  \n",
       "40429  You can wear the hood by itself, wear it with ...  \n",
       "40430  I liked nothing about this dress. The only rea...  \n",
       "40431  I work in the wedding industry and have to wor...  \n",
       "\n",
       "[40432 rows x 4 columns]"
      ]
     },
     "execution_count": 3,
     "metadata": {},
     "output_type": "execute_result"
    }
   ],
   "source": [
    "df1"
   ]
  },
  {
   "cell_type": "code",
   "execution_count": 4,
   "id": "c7dafb3e",
   "metadata": {
    "scrolled": true
   },
   "outputs": [],
   "source": [
    "# # df1[\"label\"]==\"neutral\"\n",
    "\n",
    "# # df1.loc(df1[\"label\"]== \"neutral\")\n",
    "# ptweets = df1[df1.label=='neutral']\n",
    "# # ptweets = [tweet for tweet in df1 if df1.label[df1.label=='neutral']]\n",
    "\n",
    "\n",
    "# # positive = (format(100 * len(ptweets) / len(df1)))\n",
    "# # positive\n",
    "# print(ptweets)\n",
    "\n",
    "# for i in ptweets[\"tweet_text\"]:\n",
    "#     print(i)\n",
    "#     break"
   ]
  },
  {
   "cell_type": "code",
   "execution_count": 5,
   "id": "cloudy-finger",
   "metadata": {
    "scrolled": true
   },
   "outputs": [
    {
     "data": {
      "text/plain": [
       "array(['CG', 'OR'], dtype=object)"
      ]
     },
     "execution_count": 5,
     "metadata": {},
     "output_type": "execute_result"
    }
   ],
   "source": [
    "df1['label'].unique()"
   ]
  },
  {
   "cell_type": "code",
   "execution_count": 6,
   "id": "inclusive-grass",
   "metadata": {},
   "outputs": [],
   "source": [
    "# df1.to_csv('twepy.csv')"
   ]
  },
  {
   "cell_type": "code",
   "execution_count": 7,
   "id": "proud-bench",
   "metadata": {},
   "outputs": [
    {
     "data": {
      "text/plain": [
       "(40432, 4)"
      ]
     },
     "execution_count": 7,
     "metadata": {},
     "output_type": "execute_result"
    }
   ],
   "source": [
    "df1.shape"
   ]
  },
  {
   "cell_type": "code",
   "execution_count": 8,
   "id": "third-samuel",
   "metadata": {},
   "outputs": [
    {
     "name": "stdout",
     "output_type": "stream",
     "text": [
      "<class 'pandas.core.frame.DataFrame'>\n",
      "RangeIndex: 40432 entries, 0 to 40431\n",
      "Data columns (total 4 columns):\n",
      " #   Column    Non-Null Count  Dtype  \n",
      "---  ------    --------------  -----  \n",
      " 0   category  40432 non-null  object \n",
      " 1   rating    40432 non-null  float64\n",
      " 2   label     40432 non-null  object \n",
      " 3   text_     40432 non-null  object \n",
      "dtypes: float64(1), object(3)\n",
      "memory usage: 1.2+ MB\n"
     ]
    }
   ],
   "source": [
    "df1.info()"
   ]
  },
  {
   "cell_type": "code",
   "execution_count": 9,
   "id": "earlier-auckland",
   "metadata": {},
   "outputs": [
    {
     "data": {
      "text/html": [
       "<div>\n",
       "<style scoped>\n",
       "    .dataframe tbody tr th:only-of-type {\n",
       "        vertical-align: middle;\n",
       "    }\n",
       "\n",
       "    .dataframe tbody tr th {\n",
       "        vertical-align: top;\n",
       "    }\n",
       "\n",
       "    .dataframe thead th {\n",
       "        text-align: right;\n",
       "    }\n",
       "</style>\n",
       "<table border=\"1\" class=\"dataframe\">\n",
       "  <thead>\n",
       "    <tr style=\"text-align: right;\">\n",
       "      <th></th>\n",
       "      <th>Total</th>\n",
       "      <th>Percent</th>\n",
       "    </tr>\n",
       "  </thead>\n",
       "  <tbody>\n",
       "    <tr>\n",
       "      <th>category</th>\n",
       "      <td>0</td>\n",
       "      <td>0.0</td>\n",
       "    </tr>\n",
       "    <tr>\n",
       "      <th>rating</th>\n",
       "      <td>0</td>\n",
       "      <td>0.0</td>\n",
       "    </tr>\n",
       "    <tr>\n",
       "      <th>label</th>\n",
       "      <td>0</td>\n",
       "      <td>0.0</td>\n",
       "    </tr>\n",
       "    <tr>\n",
       "      <th>text_</th>\n",
       "      <td>0</td>\n",
       "      <td>0.0</td>\n",
       "    </tr>\n",
       "  </tbody>\n",
       "</table>\n",
       "</div>"
      ],
      "text/plain": [
       "          Total  Percent\n",
       "category      0      0.0\n",
       "rating        0      0.0\n",
       "label         0      0.0\n",
       "text_         0      0.0"
      ]
     },
     "execution_count": 9,
     "metadata": {},
     "output_type": "execute_result"
    }
   ],
   "source": [
    "#missing data\n",
    "total = df1.isnull().sum().sort_values(ascending=False)\n",
    "percent = (df1.isnull().sum()/df1.isnull().count()).sort_values(ascending=False)\n",
    "missing_data = pd.concat([total, percent], axis=1, keys=['Total', 'Percent'])\n",
    "missing_data"
   ]
  },
  {
   "cell_type": "code",
   "execution_count": 10,
   "id": "d7ba1864",
   "metadata": {
    "scrolled": true
   },
   "outputs": [
    {
     "data": {
      "text/html": [
       "<div>\n",
       "<style scoped>\n",
       "    .dataframe tbody tr th:only-of-type {\n",
       "        vertical-align: middle;\n",
       "    }\n",
       "\n",
       "    .dataframe tbody tr th {\n",
       "        vertical-align: top;\n",
       "    }\n",
       "\n",
       "    .dataframe thead th {\n",
       "        text-align: right;\n",
       "    }\n",
       "</style>\n",
       "<table border=\"1\" class=\"dataframe\">\n",
       "  <thead>\n",
       "    <tr style=\"text-align: right;\">\n",
       "      <th></th>\n",
       "      <th>category</th>\n",
       "      <th>rating</th>\n",
       "      <th>label</th>\n",
       "      <th>text_</th>\n",
       "    </tr>\n",
       "  </thead>\n",
       "  <tbody>\n",
       "    <tr>\n",
       "      <th>0</th>\n",
       "      <td>Home_and_Kitchen_5</td>\n",
       "      <td>5.0</td>\n",
       "      <td>CG</td>\n",
       "      <td>Love this!  Well made, sturdy, and very comfor...</td>\n",
       "    </tr>\n",
       "    <tr>\n",
       "      <th>1</th>\n",
       "      <td>Home_and_Kitchen_5</td>\n",
       "      <td>5.0</td>\n",
       "      <td>CG</td>\n",
       "      <td>love it, a great upgrade from the original.  I...</td>\n",
       "    </tr>\n",
       "    <tr>\n",
       "      <th>2</th>\n",
       "      <td>Home_and_Kitchen_5</td>\n",
       "      <td>5.0</td>\n",
       "      <td>CG</td>\n",
       "      <td>This pillow saved my back. I love the look and...</td>\n",
       "    </tr>\n",
       "    <tr>\n",
       "      <th>3</th>\n",
       "      <td>Home_and_Kitchen_5</td>\n",
       "      <td>1.0</td>\n",
       "      <td>CG</td>\n",
       "      <td>Missing information on how to use it, but it i...</td>\n",
       "    </tr>\n",
       "    <tr>\n",
       "      <th>4</th>\n",
       "      <td>Home_and_Kitchen_5</td>\n",
       "      <td>5.0</td>\n",
       "      <td>CG</td>\n",
       "      <td>Very nice set. Good quality. We have had the s...</td>\n",
       "    </tr>\n",
       "  </tbody>\n",
       "</table>\n",
       "</div>"
      ],
      "text/plain": [
       "             category  rating label  \\\n",
       "0  Home_and_Kitchen_5     5.0    CG   \n",
       "1  Home_and_Kitchen_5     5.0    CG   \n",
       "2  Home_and_Kitchen_5     5.0    CG   \n",
       "3  Home_and_Kitchen_5     1.0    CG   \n",
       "4  Home_and_Kitchen_5     5.0    CG   \n",
       "\n",
       "                                               text_  \n",
       "0  Love this!  Well made, sturdy, and very comfor...  \n",
       "1  love it, a great upgrade from the original.  I...  \n",
       "2  This pillow saved my back. I love the look and...  \n",
       "3  Missing information on how to use it, but it i...  \n",
       "4  Very nice set. Good quality. We have had the s...  "
      ]
     },
     "execution_count": 10,
     "metadata": {},
     "output_type": "execute_result"
    }
   ],
   "source": [
    "df1 = df1.dropna()\n",
    "df1.head()"
   ]
  },
  {
   "cell_type": "code",
   "execution_count": 11,
   "id": "8a2ce893",
   "metadata": {},
   "outputs": [
    {
     "data": {
      "text/html": [
       "<div>\n",
       "<style scoped>\n",
       "    .dataframe tbody tr th:only-of-type {\n",
       "        vertical-align: middle;\n",
       "    }\n",
       "\n",
       "    .dataframe tbody tr th {\n",
       "        vertical-align: top;\n",
       "    }\n",
       "\n",
       "    .dataframe thead th {\n",
       "        text-align: right;\n",
       "    }\n",
       "</style>\n",
       "<table border=\"1\" class=\"dataframe\">\n",
       "  <thead>\n",
       "    <tr style=\"text-align: right;\">\n",
       "      <th></th>\n",
       "      <th>Total</th>\n",
       "      <th>Percent</th>\n",
       "    </tr>\n",
       "  </thead>\n",
       "  <tbody>\n",
       "    <tr>\n",
       "      <th>category</th>\n",
       "      <td>0</td>\n",
       "      <td>0.0</td>\n",
       "    </tr>\n",
       "    <tr>\n",
       "      <th>rating</th>\n",
       "      <td>0</td>\n",
       "      <td>0.0</td>\n",
       "    </tr>\n",
       "    <tr>\n",
       "      <th>label</th>\n",
       "      <td>0</td>\n",
       "      <td>0.0</td>\n",
       "    </tr>\n",
       "    <tr>\n",
       "      <th>text_</th>\n",
       "      <td>0</td>\n",
       "      <td>0.0</td>\n",
       "    </tr>\n",
       "  </tbody>\n",
       "</table>\n",
       "</div>"
      ],
      "text/plain": [
       "          Total  Percent\n",
       "category      0      0.0\n",
       "rating        0      0.0\n",
       "label         0      0.0\n",
       "text_         0      0.0"
      ]
     },
     "execution_count": 11,
     "metadata": {},
     "output_type": "execute_result"
    }
   ],
   "source": [
    "#missing data\n",
    "total = df1.isnull().sum().sort_values(ascending=False)\n",
    "percent = (df1.isnull().sum()/df1.isnull().count()).sort_values(ascending=False)\n",
    "missing_data = pd.concat([total, percent], axis=1, keys=['Total', 'Percent'])\n",
    "missing_data.head()"
   ]
  },
  {
   "cell_type": "code",
   "execution_count": 12,
   "id": "tender-bottom",
   "metadata": {
    "scrolled": true
   },
   "outputs": [
    {
     "data": {
      "text/html": [
       "<div>\n",
       "<style scoped>\n",
       "    .dataframe tbody tr th:only-of-type {\n",
       "        vertical-align: middle;\n",
       "    }\n",
       "\n",
       "    .dataframe tbody tr th {\n",
       "        vertical-align: top;\n",
       "    }\n",
       "\n",
       "    .dataframe thead th {\n",
       "        text-align: right;\n",
       "    }\n",
       "</style>\n",
       "<table border=\"1\" class=\"dataframe\">\n",
       "  <thead>\n",
       "    <tr style=\"text-align: right;\">\n",
       "      <th></th>\n",
       "      <th>rating</th>\n",
       "    </tr>\n",
       "  </thead>\n",
       "  <tbody>\n",
       "    <tr>\n",
       "      <th>count</th>\n",
       "      <td>40432.000000</td>\n",
       "    </tr>\n",
       "    <tr>\n",
       "      <th>mean</th>\n",
       "      <td>4.256579</td>\n",
       "    </tr>\n",
       "    <tr>\n",
       "      <th>std</th>\n",
       "      <td>1.144354</td>\n",
       "    </tr>\n",
       "    <tr>\n",
       "      <th>min</th>\n",
       "      <td>1.000000</td>\n",
       "    </tr>\n",
       "    <tr>\n",
       "      <th>25%</th>\n",
       "      <td>4.000000</td>\n",
       "    </tr>\n",
       "    <tr>\n",
       "      <th>50%</th>\n",
       "      <td>5.000000</td>\n",
       "    </tr>\n",
       "    <tr>\n",
       "      <th>75%</th>\n",
       "      <td>5.000000</td>\n",
       "    </tr>\n",
       "    <tr>\n",
       "      <th>max</th>\n",
       "      <td>5.000000</td>\n",
       "    </tr>\n",
       "  </tbody>\n",
       "</table>\n",
       "</div>"
      ],
      "text/plain": [
       "             rating\n",
       "count  40432.000000\n",
       "mean       4.256579\n",
       "std        1.144354\n",
       "min        1.000000\n",
       "25%        4.000000\n",
       "50%        5.000000\n",
       "75%        5.000000\n",
       "max        5.000000"
      ]
     },
     "execution_count": 12,
     "metadata": {},
     "output_type": "execute_result"
    }
   ],
   "source": [
    "df1.describe()"
   ]
  },
  {
   "cell_type": "code",
   "execution_count": 13,
   "id": "secondary-hungarian",
   "metadata": {},
   "outputs": [
    {
     "data": {
      "text/html": [
       "<div>\n",
       "<style scoped>\n",
       "    .dataframe tbody tr th:only-of-type {\n",
       "        vertical-align: middle;\n",
       "    }\n",
       "\n",
       "    .dataframe tbody tr th {\n",
       "        vertical-align: top;\n",
       "    }\n",
       "\n",
       "    .dataframe thead th {\n",
       "        text-align: right;\n",
       "    }\n",
       "</style>\n",
       "<table border=\"1\" class=\"dataframe\">\n",
       "  <thead>\n",
       "    <tr style=\"text-align: right;\">\n",
       "      <th></th>\n",
       "      <th>rating</th>\n",
       "    </tr>\n",
       "  </thead>\n",
       "  <tbody>\n",
       "    <tr>\n",
       "      <th>rating</th>\n",
       "      <td>1.0</td>\n",
       "    </tr>\n",
       "  </tbody>\n",
       "</table>\n",
       "</div>"
      ],
      "text/plain": [
       "        rating\n",
       "rating     1.0"
      ]
     },
     "execution_count": 13,
     "metadata": {},
     "output_type": "execute_result"
    }
   ],
   "source": [
    "df1.corr()"
   ]
  },
  {
   "cell_type": "code",
   "execution_count": 15,
   "id": "enabling-might",
   "metadata": {},
   "outputs": [
    {
     "data": {
      "text/plain": [
       "array(['neutral', 'negative', 'positive'], dtype=object)"
      ]
     },
     "execution_count": 15,
     "metadata": {},
     "output_type": "execute_result"
    }
   ],
   "source": [
    "df1['label'].unique()"
   ]
  },
  {
   "cell_type": "code",
   "execution_count": 16,
   "id": "russian-regulation",
   "metadata": {
    "scrolled": false
   },
   "outputs": [
    {
     "data": {
      "image/png": "[encoded data removed]",
      "text/plain": [
       "<Figure size 576x576 with 1 Axes>"
      ]
     },
     "metadata": {},
     "output_type": "display_data"
    }
   ],
   "source": [
    "# plotting a pie chart to represent share of international repuatation\n",
    "\n",
    "labels = ['neutral', 'positive', 'negative']\n",
    "sizes = df1['label'].value_counts()\n",
    "colors = plt.cm.copper(np.linspace(0, 1, 5))\n",
    "explode = [0, 0, 0.4]\n",
    "\n",
    "plt.rcParams['figure.figsize'] = (8,8)\n",
    "plt.pie(sizes, labels = labels, colors = colors, explode = explode, shadow = True)\n",
    "plt.title('How many sarcastic and non-sarcastic tweets are present', fontsize = 20)\n",
    "plt.legend()\n",
    "plt.show()"
   ]
  },
  {
   "cell_type": "code",
   "execution_count": 17,
   "id": "parliamentary-tournament",
   "metadata": {},
   "outputs": [
    {
     "name": "stdout",
     "output_type": "stream",
     "text": [
      "There are 0 NaNs in column Unnamed: 0\n",
      "There are 0 NaNs in column created_at\n",
      "There are 0 NaNs in column tweet_id\n",
      "There are 0 NaNs in column Location\n",
      "There are 0 NaNs in column tweet_text\n",
      "There are 0 NaNs in column screen_name\n",
      "There are 0 NaNs in column name\n",
      "There are 0 NaNs in column account_creation_date\n",
      "There are 0 NaNs in column urls\n",
      "There are 0 NaNs in column Likes\n",
      "There are 0 NaNs in column Retweet\n",
      "There are 0 NaNs in column label\n"
     ]
    }
   ],
   "source": [
    "for column_name in df1:\n",
    "    num_nan_a = df1.loc[ (pd.isna(df1[column_name])) , column_name ].shape[0]\n",
    "\n",
    "    print(f\"There are {num_nan_a} NaNs in column \"+column_name)"
   ]
  },
  {
   "cell_type": "code",
   "execution_count": 18,
   "id": "897632d4",
   "metadata": {},
   "outputs": [
    {
     "data": {
      "text/plain": [
       "0       RT @Ndlotus1: Another 'lie' made headlines aft...\n",
       "1       RT @Ndlotus1: Which of Modi's statements is fa...\n",
       "2       RT @Ndlotus1: Another 'lie' made headlines aft...\n",
       "6       RT @Ndlotus1: Which of Modi's statements is fa...\n",
       "7       RT @Ndlotus1: Another 'lie' made headlines aft...\n",
       "                              ...                        \n",
       "9992    RT @moneycontrolcom: Members of a hardline Isl...\n",
       "9994    \"Haramkhor\" #ModiGovt has 10 lakh crores to be...\n",
       "9996    RT @FreedomRestorer: Despite being involved in...\n",
       "9997    RT @moneycontrolcom: Members of a hardline Isl...\n",
       "9998    RT @SAsiaSolidarity: Why has  “one of the grea...\n",
       "Name: tweet_text, Length: 6321, dtype: object"
      ]
     },
     "execution_count": 18,
     "metadata": {},
     "output_type": "execute_result"
    }
   ],
   "source": [
    "df1['tweet_text']"
   ]
  },
  {
   "cell_type": "code",
   "execution_count": 19,
   "id": "9f22afdd",
   "metadata": {},
   "outputs": [
    {
     "data": {
      "text/plain": [
       "neutral     2521\n",
       "positive    2471\n",
       "negative    1329\n",
       "Name: label, dtype: int64"
      ]
     },
     "execution_count": 19,
     "metadata": {},
     "output_type": "execute_result"
    }
   ],
   "source": [
    "df1['label'].value_counts()"
   ]
  },
  {
   "cell_type": "code",
   "execution_count": 20,
   "id": "1b155c72",
   "metadata": {
    "scrolled": true
   },
   "outputs": [
    {
     "data": {
      "text/html": [
       "<div>\n",
       "<style scoped>\n",
       "    .dataframe tbody tr th:only-of-type {\n",
       "        vertical-align: middle;\n",
       "    }\n",
       "\n",
       "    .dataframe tbody tr th {\n",
       "        vertical-align: top;\n",
       "    }\n",
       "\n",
       "    .dataframe thead th {\n",
       "        text-align: right;\n",
       "    }\n",
       "</style>\n",
       "<table border=\"1\" class=\"dataframe\">\n",
       "  <thead>\n",
       "    <tr style=\"text-align: right;\">\n",
       "      <th></th>\n",
       "      <th>tweet_text</th>\n",
       "      <th>label</th>\n",
       "    </tr>\n",
       "  </thead>\n",
       "  <tbody>\n",
       "    <tr>\n",
       "      <th>0</th>\n",
       "      <td>RT @Ndlotus1: Another 'lie' made headlines aft...</td>\n",
       "      <td>neutral</td>\n",
       "    </tr>\n",
       "    <tr>\n",
       "      <th>1</th>\n",
       "      <td>RT @Ndlotus1: Which of Modi's statements is fa...</td>\n",
       "      <td>negative</td>\n",
       "    </tr>\n",
       "    <tr>\n",
       "      <th>2</th>\n",
       "      <td>RT @Ndlotus1: Another 'lie' made headlines aft...</td>\n",
       "      <td>neutral</td>\n",
       "    </tr>\n",
       "    <tr>\n",
       "      <th>6</th>\n",
       "      <td>RT @Ndlotus1: Which of Modi's statements is fa...</td>\n",
       "      <td>negative</td>\n",
       "    </tr>\n",
       "    <tr>\n",
       "      <th>7</th>\n",
       "      <td>RT @Ndlotus1: Another 'lie' made headlines aft...</td>\n",
       "      <td>neutral</td>\n",
       "    </tr>\n",
       "  </tbody>\n",
       "</table>\n",
       "</div>"
      ],
      "text/plain": [
       "                                          tweet_text     label\n",
       "0  RT @Ndlotus1: Another 'lie' made headlines aft...   neutral\n",
       "1  RT @Ndlotus1: Which of Modi's statements is fa...  negative\n",
       "2  RT @Ndlotus1: Another 'lie' made headlines aft...   neutral\n",
       "6  RT @Ndlotus1: Which of Modi's statements is fa...  negative\n",
       "7  RT @Ndlotus1: Another 'lie' made headlines aft...   neutral"
      ]
     },
     "execution_count": 20,
     "metadata": {},
     "output_type": "execute_result"
    }
   ],
   "source": [
    "df = df1.drop([\"Unnamed: 0\",\"created_at\",\"tweet_id\",\"Location\",\"screen_name\",\"name\",\"account_creation_date\",\"urls\",\"Likes\",\"Retweet\"],axis=1)\n",
    "df.head()"
   ]
  },
  {
   "cell_type": "code",
   "execution_count": 21,
   "id": "fe7bef20",
   "metadata": {},
   "outputs": [],
   "source": [
    "import re\n",
    "def text_cleaning(text):\n",
    "    text = re.sub(r'@[A-Za-z0-9]+', '', text)     # removing @mentions\n",
    "    text = re.sub(r'@[A-Za-zA-Z0-9]+', '', text)  # removing @mentions \n",
    "    text = re.sub(r'@[A-Za-z]+', '', text)        # removing @mentions\n",
    "    text = re.sub(r'@[-)]+', '', text)            # removing @mentions\n",
    "    text = re.sub(r'#:', '', text )                # removing '#' sign\n",
    "    text = re.sub(r'RT[\\s]+', '', text)           # removing RT\n",
    "    text = re.sub(r'https?\\/\\/\\S+', '', text)     # removing the hyper link\n",
    "    text = re.sub(r'&[a-z;]+', '', text)          # removing '&gt;'\n",
    "    return text"
   ]
  },
  {
   "cell_type": "code",
   "execution_count": 22,
   "id": "75daaebc",
   "metadata": {},
   "outputs": [
    {
     "data": {
      "text/html": [
       "<div>\n",
       "<style scoped>\n",
       "    .dataframe tbody tr th:only-of-type {\n",
       "        vertical-align: middle;\n",
       "    }\n",
       "\n",
       "    .dataframe tbody tr th {\n",
       "        vertical-align: top;\n",
       "    }\n",
       "\n",
       "    .dataframe thead th {\n",
       "        text-align: right;\n",
       "    }\n",
       "</style>\n",
       "<table border=\"1\" class=\"dataframe\">\n",
       "  <thead>\n",
       "    <tr style=\"text-align: right;\">\n",
       "      <th></th>\n",
       "      <th>tweet_text</th>\n",
       "      <th>label</th>\n",
       "      <th>SentimentText</th>\n",
       "    </tr>\n",
       "  </thead>\n",
       "  <tbody>\n",
       "    <tr>\n",
       "      <th>0</th>\n",
       "      <td>RT @Ndlotus1: Another 'lie' made headlines aft...</td>\n",
       "      <td>neutral</td>\n",
       "      <td>: Another 'lie' made headlines after being int...</td>\n",
       "    </tr>\n",
       "    <tr>\n",
       "      <th>1</th>\n",
       "      <td>RT @Ndlotus1: Which of Modi's statements is fa...</td>\n",
       "      <td>negative</td>\n",
       "      <td>: Which of Modi's statements is false,  which ...</td>\n",
       "    </tr>\n",
       "    <tr>\n",
       "      <th>2</th>\n",
       "      <td>RT @Ndlotus1: Another 'lie' made headlines aft...</td>\n",
       "      <td>neutral</td>\n",
       "      <td>: Another 'lie' made headlines after being int...</td>\n",
       "    </tr>\n",
       "    <tr>\n",
       "      <th>6</th>\n",
       "      <td>RT @Ndlotus1: Which of Modi's statements is fa...</td>\n",
       "      <td>negative</td>\n",
       "      <td>: Which of Modi's statements is false,  which ...</td>\n",
       "    </tr>\n",
       "    <tr>\n",
       "      <th>7</th>\n",
       "      <td>RT @Ndlotus1: Another 'lie' made headlines aft...</td>\n",
       "      <td>neutral</td>\n",
       "      <td>: Another 'lie' made headlines after being int...</td>\n",
       "    </tr>\n",
       "    <tr>\n",
       "      <th>8</th>\n",
       "      <td>Why some guys don’t like Bengali girls? #benga...</td>\n",
       "      <td>neutral</td>\n",
       "      <td>Why some guys don’t like Bengali girls? #benga...</td>\n",
       "    </tr>\n",
       "    <tr>\n",
       "      <th>9</th>\n",
       "      <td>RT @Sa_k_i_b: Salam all Shuhada-e-Haq.\\n\\nList...</td>\n",
       "      <td>neutral</td>\n",
       "      <td>_k_i_b: Salam all Shuhada-e-Haq.\\n\\nList of th...</td>\n",
       "    </tr>\n",
       "    <tr>\n",
       "      <th>10</th>\n",
       "      <td>RT @Rajasthan_PYC: Happy birthday modiji #Modi...</td>\n",
       "      <td>positive</td>\n",
       "      <td>_PYC: Happy birthday modiji #Modi #ModiFoolDay</td>\n",
       "    </tr>\n",
       "    <tr>\n",
       "      <th>11</th>\n",
       "      <td>RT @Sa_k_i_b: Salam all Shuhada-e-Haq.\\n\\nList...</td>\n",
       "      <td>neutral</td>\n",
       "      <td>_k_i_b: Salam all Shuhada-e-Haq.\\n\\nList of th...</td>\n",
       "    </tr>\n",
       "    <tr>\n",
       "      <th>12</th>\n",
       "      <td>@vakeel_saheba since #Modi ran out of ideas to...</td>\n",
       "      <td>neutral</td>\n",
       "      <td>_saheba since #Modi ran out of ideas to fleece...</td>\n",
       "    </tr>\n",
       "  </tbody>\n",
       "</table>\n",
       "</div>"
      ],
      "text/plain": [
       "                                           tweet_text     label  \\\n",
       "0   RT @Ndlotus1: Another 'lie' made headlines aft...   neutral   \n",
       "1   RT @Ndlotus1: Which of Modi's statements is fa...  negative   \n",
       "2   RT @Ndlotus1: Another 'lie' made headlines aft...   neutral   \n",
       "6   RT @Ndlotus1: Which of Modi's statements is fa...  negative   \n",
       "7   RT @Ndlotus1: Another 'lie' made headlines aft...   neutral   \n",
       "8   Why some guys don’t like Bengali girls? #benga...   neutral   \n",
       "9   RT @Sa_k_i_b: Salam all Shuhada-e-Haq.\\n\\nList...   neutral   \n",
       "10  RT @Rajasthan_PYC: Happy birthday modiji #Modi...  positive   \n",
       "11  RT @Sa_k_i_b: Salam all Shuhada-e-Haq.\\n\\nList...   neutral   \n",
       "12  @vakeel_saheba since #Modi ran out of ideas to...   neutral   \n",
       "\n",
       "                                        SentimentText  \n",
       "0   : Another 'lie' made headlines after being int...  \n",
       "1   : Which of Modi's statements is false,  which ...  \n",
       "2   : Another 'lie' made headlines after being int...  \n",
       "6   : Which of Modi's statements is false,  which ...  \n",
       "7   : Another 'lie' made headlines after being int...  \n",
       "8   Why some guys don’t like Bengali girls? #benga...  \n",
       "9   _k_i_b: Salam all Shuhada-e-Haq.\\n\\nList of th...  \n",
       "10     _PYC: Happy birthday modiji #Modi #ModiFoolDay  \n",
       "11  _k_i_b: Salam all Shuhada-e-Haq.\\n\\nList of th...  \n",
       "12  _saheba since #Modi ran out of ideas to fleece...  "
      ]
     },
     "execution_count": 22,
     "metadata": {},
     "output_type": "execute_result"
    }
   ],
   "source": [
    "df['SentimentText'] = df['tweet_text'].apply(text_cleaning)\n",
    "df.head(10)"
   ]
  },
  {
   "cell_type": "code",
   "execution_count": 23,
   "id": "d19735a8",
   "metadata": {},
   "outputs": [],
   "source": [
    "df['labels'] = df.label.map({'positive': 0, 'negative': 1, 'neutral': 2})"
   ]
  },
  {
   "cell_type": "code",
   "execution_count": 24,
   "id": "850c6b84",
   "metadata": {},
   "outputs": [
    {
     "data": {
      "text/plain": [
       "2    2521\n",
       "0    2471\n",
       "1    1329\n",
       "Name: labels, dtype: int64"
      ]
     },
     "execution_count": 24,
     "metadata": {},
     "output_type": "execute_result"
    }
   ],
   "source": [
    "df['labels'].value_counts()"
   ]
  },
  {
   "cell_type": "code",
   "execution_count": 25,
   "id": "eb8c3a93",
   "metadata": {},
   "outputs": [
    {
     "data": {
      "text/html": [
       "<div>\n",
       "<style scoped>\n",
       "    .dataframe tbody tr th:only-of-type {\n",
       "        vertical-align: middle;\n",
       "    }\n",
       "\n",
       "    .dataframe tbody tr th {\n",
       "        vertical-align: top;\n",
       "    }\n",
       "\n",
       "    .dataframe thead th {\n",
       "        text-align: right;\n",
       "    }\n",
       "</style>\n",
       "<table border=\"1\" class=\"dataframe\">\n",
       "  <thead>\n",
       "    <tr style=\"text-align: right;\">\n",
       "      <th></th>\n",
       "      <th>tweet_text</th>\n",
       "      <th>label</th>\n",
       "      <th>SentimentText</th>\n",
       "      <th>labels</th>\n",
       "    </tr>\n",
       "  </thead>\n",
       "  <tbody>\n",
       "    <tr>\n",
       "      <th>0</th>\n",
       "      <td>RT @Ndlotus1: Another 'lie' made headlines aft...</td>\n",
       "      <td>neutral</td>\n",
       "      <td>: Another 'lie' made headlines after being int...</td>\n",
       "      <td>2</td>\n",
       "    </tr>\n",
       "    <tr>\n",
       "      <th>2</th>\n",
       "      <td>RT @Ndlotus1: Another 'lie' made headlines aft...</td>\n",
       "      <td>neutral</td>\n",
       "      <td>: Another 'lie' made headlines after being int...</td>\n",
       "      <td>2</td>\n",
       "    </tr>\n",
       "    <tr>\n",
       "      <th>7</th>\n",
       "      <td>RT @Ndlotus1: Another 'lie' made headlines aft...</td>\n",
       "      <td>neutral</td>\n",
       "      <td>: Another 'lie' made headlines after being int...</td>\n",
       "      <td>2</td>\n",
       "    </tr>\n",
       "    <tr>\n",
       "      <th>8</th>\n",
       "      <td>Why some guys don’t like Bengali girls? #benga...</td>\n",
       "      <td>neutral</td>\n",
       "      <td>Why some guys don’t like Bengali girls? #benga...</td>\n",
       "      <td>2</td>\n",
       "    </tr>\n",
       "    <tr>\n",
       "      <th>9</th>\n",
       "      <td>RT @Sa_k_i_b: Salam all Shuhada-e-Haq.\\n\\nList...</td>\n",
       "      <td>neutral</td>\n",
       "      <td>_k_i_b: Salam all Shuhada-e-Haq.\\n\\nList of th...</td>\n",
       "      <td>2</td>\n",
       "    </tr>\n",
       "    <tr>\n",
       "      <th>...</th>\n",
       "      <td>...</td>\n",
       "      <td>...</td>\n",
       "      <td>...</td>\n",
       "      <td>...</td>\n",
       "    </tr>\n",
       "    <tr>\n",
       "      <th>5743</th>\n",
       "      <td>RT @indianposten: @Spirit_Hindutva @Trendsetti...</td>\n",
       "      <td>neutral</td>\n",
       "      <td>: _Hindutva  _loya      …</td>\n",
       "      <td>2</td>\n",
       "    </tr>\n",
       "    <tr>\n",
       "      <th>5767</th>\n",
       "      <td>@Spirit_Hindutva @Trendsetting123 @shree_loya ...</td>\n",
       "      <td>neutral</td>\n",
       "      <td>_Hindutva  _loya     … https://t.co/n52Y0ERj8i</td>\n",
       "      <td>2</td>\n",
       "    </tr>\n",
       "    <tr>\n",
       "      <th>5770</th>\n",
       "      <td>@ShekharGupta Must be a @georgesoros sponsored...</td>\n",
       "      <td>neutral</td>\n",
       "      <td>Must be a  sponsored column. Already #Modi ha...</td>\n",
       "      <td>2</td>\n",
       "    </tr>\n",
       "    <tr>\n",
       "      <th>5796</th>\n",
       "      <td>RT @kkbluffs: Attn: #Modi Women empowerment in...</td>\n",
       "      <td>neutral</td>\n",
       "      <td>: Attn: #Modi Women empowerment in #aiadmk regime</td>\n",
       "      <td>2</td>\n",
       "    </tr>\n",
       "    <tr>\n",
       "      <th>5797</th>\n",
       "      <td>RT @O_ISF: Protesters accuse #Modi of discrimi...</td>\n",
       "      <td>neutral</td>\n",
       "      <td>_ISF: Protesters accuse #Modi of discriminatin...</td>\n",
       "      <td>2</td>\n",
       "    </tr>\n",
       "  </tbody>\n",
       "</table>\n",
       "<p>1329 rows × 4 columns</p>\n",
       "</div>"
      ],
      "text/plain": [
       "                                             tweet_text    label  \\\n",
       "0     RT @Ndlotus1: Another 'lie' made headlines aft...  neutral   \n",
       "2     RT @Ndlotus1: Another 'lie' made headlines aft...  neutral   \n",
       "7     RT @Ndlotus1: Another 'lie' made headlines aft...  neutral   \n",
       "8     Why some guys don’t like Bengali girls? #benga...  neutral   \n",
       "9     RT @Sa_k_i_b: Salam all Shuhada-e-Haq.\\n\\nList...  neutral   \n",
       "...                                                 ...      ...   \n",
       "5743  RT @indianposten: @Spirit_Hindutva @Trendsetti...  neutral   \n",
       "5767  @Spirit_Hindutva @Trendsetting123 @shree_loya ...  neutral   \n",
       "5770  @ShekharGupta Must be a @georgesoros sponsored...  neutral   \n",
       "5796  RT @kkbluffs: Attn: #Modi Women empowerment in...  neutral   \n",
       "5797  RT @O_ISF: Protesters accuse #Modi of discrimi...  neutral   \n",
       "\n",
       "                                          SentimentText  labels  \n",
       "0     : Another 'lie' made headlines after being int...       2  \n",
       "2     : Another 'lie' made headlines after being int...       2  \n",
       "7     : Another 'lie' made headlines after being int...       2  \n",
       "8     Why some guys don’t like Bengali girls? #benga...       2  \n",
       "9     _k_i_b: Salam all Shuhada-e-Haq.\\n\\nList of th...       2  \n",
       "...                                                 ...     ...  \n",
       "5743                          : _Hindutva  _loya      …       2  \n",
       "5767     _Hindutva  _loya     … https://t.co/n52Y0ERj8i       2  \n",
       "5770   Must be a  sponsored column. Already #Modi ha...       2  \n",
       "5796  : Attn: #Modi Women empowerment in #aiadmk regime       2  \n",
       "5797  _ISF: Protesters accuse #Modi of discriminatin...       2  \n",
       "\n",
       "[1329 rows x 4 columns]"
      ]
     },
     "execution_count": 25,
     "metadata": {},
     "output_type": "execute_result"
    }
   ],
   "source": [
    "dfpos = df[df[\"labels\"] == 0][:1329]\n",
    "dfneg = df[df[\"labels\"] == 1][:1329]\n",
    "dfneu = df[df[\"labels\"] == 2][:1329]\n",
    "dfneu"
   ]
  },
  {
   "cell_type": "code",
   "execution_count": 26,
   "id": "3c003fef",
   "metadata": {},
   "outputs": [
    {
     "data": {
      "text/html": [
       "<div>\n",
       "<style scoped>\n",
       "    .dataframe tbody tr th:only-of-type {\n",
       "        vertical-align: middle;\n",
       "    }\n",
       "\n",
       "    .dataframe tbody tr th {\n",
       "        vertical-align: top;\n",
       "    }\n",
       "\n",
       "    .dataframe thead th {\n",
       "        text-align: right;\n",
       "    }\n",
       "</style>\n",
       "<table border=\"1\" class=\"dataframe\">\n",
       "  <thead>\n",
       "    <tr style=\"text-align: right;\">\n",
       "      <th></th>\n",
       "      <th>tweet_text</th>\n",
       "      <th>label</th>\n",
       "      <th>SentimentText</th>\n",
       "      <th>labels</th>\n",
       "    </tr>\n",
       "  </thead>\n",
       "  <tbody>\n",
       "    <tr>\n",
       "      <th>10</th>\n",
       "      <td>RT @Rajasthan_PYC: Happy birthday modiji #Modi...</td>\n",
       "      <td>positive</td>\n",
       "      <td>_PYC: Happy birthday modiji #Modi #ModiFoolDay</td>\n",
       "      <td>0</td>\n",
       "    </tr>\n",
       "    <tr>\n",
       "      <th>13</th>\n",
       "      <td>RT @MehraInc: He comes in so many avatars, but...</td>\n",
       "      <td>positive</td>\n",
       "      <td>: He comes in so many avatars, but actually he...</td>\n",
       "      <td>0</td>\n",
       "    </tr>\n",
       "    <tr>\n",
       "      <th>16</th>\n",
       "      <td>RT @MehraInc: He comes in so many avatars, but...</td>\n",
       "      <td>positive</td>\n",
       "      <td>: He comes in so many avatars, but actually he...</td>\n",
       "      <td>0</td>\n",
       "    </tr>\n",
       "    <tr>\n",
       "      <th>19</th>\n",
       "      <td>RT @Rajasthan_PYC: Happy birthday modiji #Modi...</td>\n",
       "      <td>positive</td>\n",
       "      <td>_PYC: Happy birthday modiji #Modi #ModiFoolDay</td>\n",
       "      <td>0</td>\n",
       "    </tr>\n",
       "    <tr>\n",
       "      <th>20</th>\n",
       "      <td>RT @BandanaMrs: HOW NICE ! WHEN #MODI GOVT, IN...</td>\n",
       "      <td>positive</td>\n",
       "      <td>: HOW NICE ! WHEN #MODI GOVT, INTERFARING #RBI...</td>\n",
       "      <td>0</td>\n",
       "    </tr>\n",
       "    <tr>\n",
       "      <th>...</th>\n",
       "      <td>...</td>\n",
       "      <td>...</td>\n",
       "      <td>...</td>\n",
       "      <td>...</td>\n",
       "    </tr>\n",
       "    <tr>\n",
       "      <th>5743</th>\n",
       "      <td>RT @indianposten: @Spirit_Hindutva @Trendsetti...</td>\n",
       "      <td>neutral</td>\n",
       "      <td>: _Hindutva  _loya      …</td>\n",
       "      <td>2</td>\n",
       "    </tr>\n",
       "    <tr>\n",
       "      <th>5767</th>\n",
       "      <td>@Spirit_Hindutva @Trendsetting123 @shree_loya ...</td>\n",
       "      <td>neutral</td>\n",
       "      <td>_Hindutva  _loya     … https://t.co/n52Y0ERj8i</td>\n",
       "      <td>2</td>\n",
       "    </tr>\n",
       "    <tr>\n",
       "      <th>5770</th>\n",
       "      <td>@ShekharGupta Must be a @georgesoros sponsored...</td>\n",
       "      <td>neutral</td>\n",
       "      <td>Must be a  sponsored column. Already #Modi ha...</td>\n",
       "      <td>2</td>\n",
       "    </tr>\n",
       "    <tr>\n",
       "      <th>5796</th>\n",
       "      <td>RT @kkbluffs: Attn: #Modi Women empowerment in...</td>\n",
       "      <td>neutral</td>\n",
       "      <td>: Attn: #Modi Women empowerment in #aiadmk regime</td>\n",
       "      <td>2</td>\n",
       "    </tr>\n",
       "    <tr>\n",
       "      <th>5797</th>\n",
       "      <td>RT @O_ISF: Protesters accuse #Modi of discrimi...</td>\n",
       "      <td>neutral</td>\n",
       "      <td>_ISF: Protesters accuse #Modi of discriminatin...</td>\n",
       "      <td>2</td>\n",
       "    </tr>\n",
       "  </tbody>\n",
       "</table>\n",
       "<p>3987 rows × 4 columns</p>\n",
       "</div>"
      ],
      "text/plain": [
       "                                             tweet_text     label  \\\n",
       "10    RT @Rajasthan_PYC: Happy birthday modiji #Modi...  positive   \n",
       "13    RT @MehraInc: He comes in so many avatars, but...  positive   \n",
       "16    RT @MehraInc: He comes in so many avatars, but...  positive   \n",
       "19    RT @Rajasthan_PYC: Happy birthday modiji #Modi...  positive   \n",
       "20    RT @BandanaMrs: HOW NICE ! WHEN #MODI GOVT, IN...  positive   \n",
       "...                                                 ...       ...   \n",
       "5743  RT @indianposten: @Spirit_Hindutva @Trendsetti...   neutral   \n",
       "5767  @Spirit_Hindutva @Trendsetting123 @shree_loya ...   neutral   \n",
       "5770  @ShekharGupta Must be a @georgesoros sponsored...   neutral   \n",
       "5796  RT @kkbluffs: Attn: #Modi Women empowerment in...   neutral   \n",
       "5797  RT @O_ISF: Protesters accuse #Modi of discrimi...   neutral   \n",
       "\n",
       "                                          SentimentText  labels  \n",
       "10       _PYC: Happy birthday modiji #Modi #ModiFoolDay       0  \n",
       "13    : He comes in so many avatars, but actually he...       0  \n",
       "16    : He comes in so many avatars, but actually he...       0  \n",
       "19       _PYC: Happy birthday modiji #Modi #ModiFoolDay       0  \n",
       "20    : HOW NICE ! WHEN #MODI GOVT, INTERFARING #RBI...       0  \n",
       "...                                                 ...     ...  \n",
       "5743                          : _Hindutva  _loya      …       2  \n",
       "5767     _Hindutva  _loya     … https://t.co/n52Y0ERj8i       2  \n",
       "5770   Must be a  sponsored column. Already #Modi ha...       2  \n",
       "5796  : Attn: #Modi Women empowerment in #aiadmk regime       2  \n",
       "5797  _ISF: Protesters accuse #Modi of discriminatin...       2  \n",
       "\n",
       "[3987 rows x 4 columns]"
      ]
     },
     "execution_count": 26,
     "metadata": {},
     "output_type": "execute_result"
    }
   ],
   "source": [
    "df = pd.concat([dfpos,dfneg,dfneu],axis=0)\n",
    "df"
   ]
  },
  {
   "cell_type": "code",
   "execution_count": 27,
   "id": "fb66ad20",
   "metadata": {
    "scrolled": true
   },
   "outputs": [
    {
     "data": {
      "text/html": [
       "<div>\n",
       "<style scoped>\n",
       "    .dataframe tbody tr th:only-of-type {\n",
       "        vertical-align: middle;\n",
       "    }\n",
       "\n",
       "    .dataframe tbody tr th {\n",
       "        vertical-align: top;\n",
       "    }\n",
       "\n",
       "    .dataframe thead th {\n",
       "        text-align: right;\n",
       "    }\n",
       "</style>\n",
       "<table border=\"1\" class=\"dataframe\">\n",
       "  <thead>\n",
       "    <tr style=\"text-align: right;\">\n",
       "      <th></th>\n",
       "      <th>tweet_text</th>\n",
       "      <th>label</th>\n",
       "      <th>SentimentText</th>\n",
       "      <th>labels</th>\n",
       "    </tr>\n",
       "  </thead>\n",
       "  <tbody>\n",
       "    <tr>\n",
       "      <th>10</th>\n",
       "      <td>RT @Rajasthan_PYC: Happy birthday modiji #Modi...</td>\n",
       "      <td>positive</td>\n",
       "      <td>_PYC: Happy birthday modiji #Modi #ModiFoolDay</td>\n",
       "      <td>0</td>\n",
       "    </tr>\n",
       "    <tr>\n",
       "      <th>13</th>\n",
       "      <td>RT @MehraInc: He comes in so many avatars, but...</td>\n",
       "      <td>positive</td>\n",
       "      <td>: He comes in so many avatars, but actually he...</td>\n",
       "      <td>0</td>\n",
       "    </tr>\n",
       "    <tr>\n",
       "      <th>16</th>\n",
       "      <td>RT @MehraInc: He comes in so many avatars, but...</td>\n",
       "      <td>positive</td>\n",
       "      <td>: He comes in so many avatars, but actually he...</td>\n",
       "      <td>0</td>\n",
       "    </tr>\n",
       "    <tr>\n",
       "      <th>19</th>\n",
       "      <td>RT @Rajasthan_PYC: Happy birthday modiji #Modi...</td>\n",
       "      <td>positive</td>\n",
       "      <td>_PYC: Happy birthday modiji #Modi #ModiFoolDay</td>\n",
       "      <td>0</td>\n",
       "    </tr>\n",
       "    <tr>\n",
       "      <th>20</th>\n",
       "      <td>RT @BandanaMrs: HOW NICE ! WHEN #MODI GOVT, IN...</td>\n",
       "      <td>positive</td>\n",
       "      <td>: HOW NICE ! WHEN #MODI GOVT, INTERFARING #RBI...</td>\n",
       "      <td>0</td>\n",
       "    </tr>\n",
       "  </tbody>\n",
       "</table>\n",
       "</div>"
      ],
      "text/plain": [
       "                                           tweet_text     label  \\\n",
       "10  RT @Rajasthan_PYC: Happy birthday modiji #Modi...  positive   \n",
       "13  RT @MehraInc: He comes in so many avatars, but...  positive   \n",
       "16  RT @MehraInc: He comes in so many avatars, but...  positive   \n",
       "19  RT @Rajasthan_PYC: Happy birthday modiji #Modi...  positive   \n",
       "20  RT @BandanaMrs: HOW NICE ! WHEN #MODI GOVT, IN...  positive   \n",
       "\n",
       "                                        SentimentText  labels  \n",
       "10     _PYC: Happy birthday modiji #Modi #ModiFoolDay       0  \n",
       "13  : He comes in so many avatars, but actually he...       0  \n",
       "16  : He comes in so many avatars, but actually he...       0  \n",
       "19     _PYC: Happy birthday modiji #Modi #ModiFoolDay       0  \n",
       "20  : HOW NICE ! WHEN #MODI GOVT, INTERFARING #RBI...       0  "
      ]
     },
     "execution_count": 27,
     "metadata": {},
     "output_type": "execute_result"
    }
   ],
   "source": [
    "df.head()"
   ]
  },
  {
   "cell_type": "code",
   "execution_count": 28,
   "id": "48652beb",
   "metadata": {},
   "outputs": [],
   "source": [
    "df.to_csv(\"neurak_process.csv\")"
   ]
  },
  {
   "cell_type": "code",
   "execution_count": 29,
   "id": "b7104797",
   "metadata": {},
   "outputs": [],
   "source": [
    "from sklearn.model_selection import train_test_split\n",
    "\n",
    "x_train, x_test, y_train, y_test = train_test_split(df['SentimentText'].values, df['labels'].values, test_size=0.30)"
   ]
  },
  {
   "cell_type": "code",
   "execution_count": 30,
   "id": "bc65613f",
   "metadata": {},
   "outputs": [
    {
     "name": "stdout",
     "output_type": "stream",
     "text": [
      "sentiment Text:  : Another 'lie' made headlines after being interviewed by a prominant newspaper, in which #Modi said that Pandit Nehru did not…\n",
      "sentiment:  2\n"
     ]
    }
   ],
   "source": [
    "# checking the data split\n",
    "print('sentiment Text: ', x_train[0])\n",
    "print('sentiment: ', y_train[0])"
   ]
  },
  {
   "cell_type": "code",
   "execution_count": 31,
   "id": "cd0132bd",
   "metadata": {},
   "outputs": [],
   "source": [
    "# converting the strings into integers using Tokenizer \n",
    "from tensorflow.keras.preprocessing.text import Tokenizer\n",
    "from tensorflow.keras.preprocessing.sequence import pad_sequences \n",
    "\n",
    "# instantiating the tokenizer\n",
    "max_vocab = 20000000\n",
    "tokenizer = Tokenizer(num_words=max_vocab)\n",
    "tokenizer.fit_on_texts(x_train)"
   ]
  },
  {
   "cell_type": "code",
   "execution_count": 32,
   "id": "44194e32",
   "metadata": {},
   "outputs": [
    {
     "name": "stdout",
     "output_type": "stream",
     "text": [
      "The size of datatset vocab is:  4731\n"
     ]
    }
   ],
   "source": [
    "# checking the word index and find out the vocabulary of the dataset\n",
    "wordidx = tokenizer.word_index\n",
    "V = len(wordidx)\n",
    "print('The size of datatset vocab is: ', V)"
   ]
  },
  {
   "cell_type": "code",
   "execution_count": 33,
   "id": "4f4df1df",
   "metadata": {},
   "outputs": [
    {
     "name": "stdout",
     "output_type": "stream",
     "text": [
      "Training sequence:  [158, 188, 157, 184, 104, 148, 189, 89, 20, 190, 185, 6, 141, 1, 165, 55, 191, 192, 153, 176]\n",
      "Testing sequence:  [87, 270, 1021, 270, 270, 129, 32, 4365, 1, 6, 608, 3, 2, 4]\n"
     ]
    }
   ],
   "source": [
    "# converting tran and test sentences into sequences\n",
    "train_seq = tokenizer.texts_to_sequences(x_train)\n",
    "test_seq = tokenizer.texts_to_sequences(x_test)\n",
    "print('Training sequence: ', train_seq[0])\n",
    "print('Testing sequence: ', test_seq[0])"
   ]
  },
  {
   "cell_type": "code",
   "execution_count": 34,
   "id": "930f3e44",
   "metadata": {},
   "outputs": [
    {
     "name": "stdout",
     "output_type": "stream",
     "text": [
      "The length of training sequence is:  31\n"
     ]
    }
   ],
   "source": [
    "# padding the sequences to get equal length sequence because its conventional to use same size sequences\n",
    "# padding the traing sequence\n",
    "pad_train = pad_sequences(train_seq)\n",
    "T = pad_train.shape[1]\n",
    "print('The length of training sequence is: ', T)"
   ]
  },
  {
   "cell_type": "code",
   "execution_count": 35,
   "id": "790fe9b0",
   "metadata": {},
   "outputs": [
    {
     "name": "stdout",
     "output_type": "stream",
     "text": [
      "The length of testing sequence is:  31\n"
     ]
    }
   ],
   "source": [
    "# padding the test sequence\n",
    "pad_test = pad_sequences(test_seq, maxlen=T)\n",
    "print('The length of testing sequence is: ', pad_test.shape[1])"
   ]
  },
  {
   "cell_type": "code",
   "execution_count": 36,
   "id": "322eea90",
   "metadata": {},
   "outputs": [],
   "source": [
    "# building the model\n",
    "\n",
    "from tensorflow.keras.layers import Input, Dense, Embedding, LSTM, GlobalMaxPooling1D\n",
    "from tensorflow.keras.models import Model\n",
    "\n",
    "D = 20 \n",
    "M = 15\n",
    "\n",
    "i = Input (shape=(T, ))   \n",
    "x = Embedding(V+1, D)(i)    # V+1 because the indexing of the words in vocab (V) start from 1 not 0\n",
    "x = LSTM(M, return_sequences=True)(x)\n",
    "x = GlobalMaxPooling1D()(x)\n",
    "x = Dense(32, activation='relu')(x)\n",
    "x = Dense(3, activation='softmax')(x)\n",
    "\n",
    "model = Model(i,x)"
   ]
  },
  {
   "cell_type": "code",
   "execution_count": 37,
   "id": "ee4b2aa6",
   "metadata": {},
   "outputs": [
    {
     "name": "stdout",
     "output_type": "stream",
     "text": [
      "Model: \"model\"\n",
      "_________________________________________________________________\n",
      " Layer (type)                Output Shape              Param #   \n",
      "=================================================================\n",
      " input_1 (InputLayer)        [(None, 31)]              0         \n",
      "                                                                 \n",
      " embedding (Embedding)       (None, 31, 20)            94640     \n",
      "                                                                 \n",
      " lstm (LSTM)                 (None, 31, 15)            2160      \n",
      "                                                                 \n",
      " global_max_pooling1d (Globa  (None, 15)               0         \n",
      " lMaxPooling1D)                                                  \n",
      "                                                                 \n",
      " dense (Dense)               (None, 32)                512       \n",
      "                                                                 \n",
      " dense_1 (Dense)             (None, 3)                 99        \n",
      "                                                                 \n",
      "=================================================================\n",
      "Total params: 97,411\n",
      "Trainable params: 97,411\n",
      "Non-trainable params: 0\n",
      "_________________________________________________________________\n"
     ]
    }
   ],
   "source": [
    "model.summary()"
   ]
  },
  {
   "cell_type": "code",
   "execution_count": 38,
   "id": "544ee7a1",
   "metadata": {},
   "outputs": [
    {
     "name": "stdout",
     "output_type": "stream",
     "text": [
      "[[   0    0    0 ...  192  153  176]\n",
      " [   0    0    0 ...   78    1   67]\n",
      " [   0    0    0 ...   71    1   69]\n",
      " ...\n",
      " [   0    0    0 ...    2    4 4731]\n",
      " [   0    0    0 ...    2    4   73]\n",
      " [   0    0    0 ...    2    4 2031]] [2 0 1 ... 0 1 1]\n"
     ]
    }
   ],
   "source": [
    "print(pad_train,y_train)"
   ]
  },
  {
   "cell_type": "code",
   "execution_count": 39,
   "id": "9494cdcb",
   "metadata": {
    "scrolled": true
   },
   "outputs": [
    {
     "name": "stdout",
     "output_type": "stream",
     "text": [
      "Epoch 1/5\n",
      "88/88 [==============================] - 3s 11ms/step - loss: 0.9686 - accuracy: 0.6423 - val_loss: 0.6384 - val_accuracy: 0.8262\n",
      "Epoch 2/5\n",
      "88/88 [==============================] - 1s 7ms/step - loss: 0.3662 - accuracy: 0.8982 - val_loss: 0.2929 - val_accuracy: 0.8939\n",
      "Epoch 3/5\n",
      "88/88 [==============================] - 1s 7ms/step - loss: 0.1179 - accuracy: 0.9695 - val_loss: 0.2514 - val_accuracy: 0.9123\n",
      "Epoch 4/5\n",
      "88/88 [==============================] - 1s 8ms/step - loss: 0.0453 - accuracy: 0.9892 - val_loss: 0.2493 - val_accuracy: 0.9148\n",
      "Epoch 5/5\n",
      "88/88 [==============================] - 1s 8ms/step - loss: 0.0221 - accuracy: 0.9957 - val_loss: 0.2957 - val_accuracy: 0.9056\n"
     ]
    }
   ],
   "source": [
    "# compiling the model\n",
    "model.compile(optimizer='adam', \n",
    "              loss='sparse_categorical_crossentropy', \n",
    "              metrics=['accuracy'])\n",
    "\n",
    "# training the model\n",
    "r = model.fit(pad_train, y_train, validation_data=(pad_test, y_test), epochs=5)"
   ]
  },
  {
   "cell_type": "code",
   "execution_count": 47,
   "id": "24443f99",
   "metadata": {
    "scrolled": true
   },
   "outputs": [
    {
     "name": "stdout",
     "output_type": "stream",
     "text": [
      "38/38 [==============================] - 0s 2ms/step\n"
     ]
    },
    {
     "data": {
      "text/plain": [
       "array([0, 0, 2, ..., 1, 0, 1], dtype=int64)"
      ]
     },
     "execution_count": 47,
     "metadata": {},
     "output_type": "execute_result"
    }
   ],
   "source": [
    "from sklearn.metrics import confusion_matrix\n",
    "\n",
    "# pred = model.predict(pad_test)\n",
    "\n",
    "y_pred = np.argmax(model.predict(pad_test), axis=1)\n",
    "# y_true = np.argmax(np.concatenate(list(map(itemgetter(1), list(test_data)))), axis=1)\n",
    "y_pred"
   ]
  },
  {
   "cell_type": "code",
   "execution_count": 41,
   "id": "a4cfdba5",
   "metadata": {
    "scrolled": true
   },
   "outputs": [],
   "source": []
  },
  {
   "cell_type": "code",
   "execution_count": 50,
   "id": "72a78baf",
   "metadata": {},
   "outputs": [],
   "source": [
    "class_names = [0,1,2]"
   ]
  },
  {
   "cell_type": "code",
   "execution_count": 53,
   "id": "4f74f918",
   "metadata": {},
   "outputs": [
    {
     "data": {
      "image/png": "[encoded data removed]",
      "text/plain": [
       "<Figure size 576x576 with 2 Axes>"
      ]
     },
     "metadata": {
      "needs_background": "light"
     },
     "output_type": "display_data"
    }
   ],
   "source": [
    "confusion = pd.DataFrame(confusion_matrix(y_test, y_pred), index=class_names, columns=class_names)\n",
    "\n",
    "plt.figure()\n",
    "sns.heatmap(confusion, annot=True, fmt='d')\n",
    "plt.show()"
   ]
  },
  {
   "cell_type": "code",
   "execution_count": 45,
   "id": "20a9d5ab",
   "metadata": {},
   "outputs": [
    {
     "data": {
      "text/plain": [
       "array([[7.8258705e-01, 2.7877821e-02, 1.8953516e-01],\n",
       "       [9.9798918e-01, 5.4376666e-04, 1.4670700e-03],\n",
       "       [1.4035806e-01, 4.2062383e-02, 8.1757951e-01],\n",
       "       ...,\n",
       "       [1.4799065e-03, 9.9507141e-01, 3.4486684e-03],\n",
       "       [8.8692963e-01, 8.7780533e-03, 1.0429233e-01],\n",
       "       [2.7743808e-04, 9.9904102e-01, 6.8143941e-04]], dtype=float32)"
      ]
     },
     "execution_count": 45,
     "metadata": {},
     "output_type": "execute_result"
    }
   ],
   "source": [
    "pred"
   ]
  },
  {
   "cell_type": "code",
   "execution_count": 48,
   "id": "85ebb140",
   "metadata": {
    "scrolled": true
   },
   "outputs": [
    {
     "name": "stdout",
     "output_type": "stream",
     "text": [
      "[[368   2  16]\n",
      " [ 18 370  25]\n",
      " [ 43   9 346]]\n"
     ]
    }
   ],
   "source": [
    "from sklearn.metrics import confusion_matrix\n",
    "cm = confusion_matrix(y_test, y_pred, labels=[0,1,2]) \n",
    "print(cm)"
   ]
  },
  {
   "cell_type": "code",
   "execution_count": 41,
   "id": "f140455b",
   "metadata": {},
   "outputs": [
    {
     "data": {
      "text/plain": [
       "<matplotlib.legend.Legend at 0x15cf22cb670>"
      ]
     },
     "execution_count": 41,
     "metadata": {},
     "output_type": "execute_result"
    },
    {
     "data": {
      "image/png": "[encoded data removed]",
      "text/plain": [
       "<Figure size 576x576 with 1 Axes>"
      ]
     },
     "metadata": {
      "needs_background": "light"
     },
     "output_type": "display_data"
    }
   ],
   "source": [
    "# Evaluating the model\n",
    "# plotting the loss and validation loss of the model\n",
    "plt.plot(r.history['loss'], label='loss')\n",
    "plt.plot(r.history['val_loss'], label = 'val_loss')\n",
    "plt.legend()"
   ]
  },
  {
   "cell_type": "code",
   "execution_count": 42,
   "id": "a3d9e7d2",
   "metadata": {},
   "outputs": [
    {
     "data": {
      "text/plain": [
       "<matplotlib.legend.Legend at 0x15cf24a4d60>"
      ]
     },
     "execution_count": 42,
     "metadata": {},
     "output_type": "execute_result"
    },
    {
     "data": {
      "image/png": "[encoded data removed]",
      "text/plain": [
       "<Figure size 576x576 with 1 Axes>"
      ]
     },
     "metadata": {
      "needs_background": "light"
     },
     "output_type": "display_data"
    }
   ],
   "source": [
    "# plotting the accuracy and validation accuracy of the model\n",
    "plt.plot(r.history['accuracy'], label= 'accuracy')\n",
    "plt.plot(r.history['val_accuracy'], label='val_accuracy')\n",
    "plt.legend()"
   ]
  },
  {
   "cell_type": "code",
   "execution_count": 47,
   "id": "d9f489df",
   "metadata": {
    "scrolled": false
   },
   "outputs": [
    {
     "name": "stdout",
     "output_type": "stream",
     "text": [
      "1/1 [==============================] - 0s 31ms/step\n",
      "[[0. 0. 1.]]\n",
      "[0, 0, 1.0]\n",
      "2\n",
      "printing key[final_op]\n",
      "neutral\n"
     ]
    }
   ],
   "source": [
    "def predict_sentiment(text):\n",
    "    # preprocessing the given text \n",
    "    text_seq = tokenizer.texts_to_sequences(text)\n",
    "    text_pad = pad_sequences(text_seq, maxlen=T)\n",
    "    \n",
    "    # predicting the class\n",
    "    predicted_sentiment = model.predict(text_pad).round()\n",
    "    print(predicted_sentiment)\n",
    "    op = []\n",
    "    for i in predicted_sentiment:\n",
    "        a = int(i[0])\n",
    "        op.append(a)\n",
    "        b = int(i[1])\n",
    "        op.append(b)\n",
    "        c = i[2]\n",
    "        op.append(c)\n",
    "    print(op)\n",
    "    final_op = op.index(1)\n",
    "    print(final_op)\n",
    "    key = ['positive','negative', 'neutral']\n",
    "    val = [0, 1, 2]\n",
    "    keys = val.index(final_op)\n",
    "    print(\"printing key[final_op]\")\n",
    "    print(key[final_op])\n",
    "            \n",
    "text = [\"RT @Ndlotus1: Another 'lie' made headlines after being interviewed by a prominant newspaper, in which #Modi said that Pandit Nehru did notâ€¦\"]\n",
    "predict_sentiment(text)"
   ]
  },
  {
   "cell_type": "code",
   "execution_count": 44,
   "id": "dd3f52b8",
   "metadata": {},
   "outputs": [
    {
     "name": "stderr",
     "output_type": "stream",
     "text": [
      "WARNING:absl:Found untraced functions such as lstm_cell_layer_call_fn, lstm_cell_layer_call_and_return_conditional_losses while saving (showing 2 of 2). These functions will not be directly callable after loading.\n"
     ]
    },
    {
     "name": "stdout",
     "output_type": "stream",
     "text": [
      "INFO:tensorflow:Assets written to: neural_sentiment.hp5\\assets\n"
     ]
    },
    {
     "name": "stderr",
     "output_type": "stream",
     "text": [
      "INFO:tensorflow:Assets written to: neural_sentiment.hp5\\assets\n",
      "WARNING:absl:<keras.layers.recurrent.LSTMCell object at 0x0000015CE48830A0> has the same name 'LSTMCell' as a built-in Keras object. Consider renaming <class 'keras.layers.recurrent.LSTMCell'> to avoid naming conflicts when loading with `tf.keras.models.load_model`. If renaming is not possible, pass the object in the `custom_objects` parameter of the load function.\n"
     ]
    }
   ],
   "source": [
    "# saving the model for future purpose\n",
    "model.save('neural_sentiment.hp5')   # creates HDF5 file for model"
   ]
  },
  {
   "cell_type": "code",
   "execution_count": null,
   "id": "72d6c230",
   "metadata": {},
   "outputs": [],
   "source": []
  },
  {
   "cell_type": "code",
   "execution_count": null,
   "id": "8b4602e9",
   "metadata": {},
   "outputs": [],
   "source": []
  }
 ],
 "metadata": {
  "kernelspec": {
   "display_name": "Python 3 (ipykernel)",
   "language": "python",
   "name": "python3"
  },
  "language_info": {
   "codemirror_mode": {
    "name": "ipython",
    "version": 3
   },
   "file_extension": ".py",
   "mimetype": "text/x-python",
   "name": "python",
   "nbconvert_exporter": "python",
   "pygments_lexer": "ipython3",
   "version": "3.8.13"
  }
 },
 "nbformat": 4,
 "nbformat_minor": 5
}
